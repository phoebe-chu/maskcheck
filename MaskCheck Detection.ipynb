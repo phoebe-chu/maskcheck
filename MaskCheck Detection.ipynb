{
 "cells": [
  {
   "cell_type": "raw",
   "metadata": {},
   "source": [
    "\"Mask Check\" by Phoebe Chu and Vinay Harrichan\n",
    "CEN5035 Software Engineering Project\n",
    "Professor Ankur Agarwal\n",
    "12 December 2020"
   ]
  },
  {
   "cell_type": "raw",
   "metadata": {},
   "source": [
    "Import openCV for the image capture device.\n",
    "Import NumPy for large matrices and arrays.\n",
    "Import UUID to generate random photo IDs.\n",
    "Import SMTPLIB to send the email messages.\n",
    "Import DateTime to get timestamps of photos."
   ]
  },
  {
   "cell_type": "code",
   "execution_count": null,
   "metadata": {},
   "outputs": [],
   "source": [
    "import cv2 \n",
    "import numpy as np\n",
    "import uuid\n",
    "import smtplib\n",
    "import datetime"
   ]
  },
  {
   "cell_type": "raw",
   "metadata": {},
   "source": [
    "Access the web camera using openCV.\n",
    "Webcam number will vary based on device.\n",
    "Create a frame with height and width."
   ]
  },
  {
   "cell_type": "code",
   "execution_count": null,
   "metadata": {},
   "outputs": [],
   "source": [
    "camera = cv2.VideoCapture(1)\n",
    "h = int(camera.get(cv2.CAP_PROP_FRAME_HEIGHT))\n",
    "w = int(camera.get(cv2.CAP_PROP_FRAME_WIDTH))"
   ]
  },
  {
   "cell_type": "raw",
   "metadata": {},
   "source": [
    "Open instance of real-time image capture.\n",
    "Take a picture by pressing the ENTER key.\n",
    "Simulate one instance of a student entry.\n",
    "Store the image in designated folder path.\n",
    "Obtain the timestamp of the picture taken.\n",
    "Stop the camera and close the frame window."
   ]
  },
  {
   "cell_type": "code",
   "execution_count": null,
   "metadata": {
    "scrolled": true
   },
   "outputs": [],
   "source": [
    "num = 0\n",
    "\n",
    "while True: \n",
    "    ret, frame = camera.read()\n",
    "    \n",
    "    cv2.imshow('FAU Library Mask Check', frame)\n",
    "    \n",
    "    if cv2.waitKey(1) % 256 == 13:\n",
    "        store_images = './mask-check-web-application/frontend/public/Photos'+str(num)+'.jpg'.format(str(uuid.uuid4()))\n",
    "        date_time = str(datetime.datetime.now())\n",
    "        cv2.imwrite(store_images, frame)\n",
    "        camera.release()\n",
    "        cv2.destroyAllWindows()\n",
    "        break\n",
    "        \n",
    "    num += 1"
   ]
  },
  {
   "cell_type": "raw",
   "metadata": {},
   "source": [
    "Train Watson visual recognition tool in IBM Cloud.\n",
    "Use masked and non-masked images from the openCV.\n",
    "Also use online stock photos to train the model."
   ]
  },
  {
   "cell_type": "code",
   "execution_count": null,
   "metadata": {},
   "outputs": [],
   "source": [
    "import json\n",
    "from ibm_watson import VisualRecognitionV4\n",
    "from ibm_watson.visual_recognition_v4 import FileWithMetadata, AnalyzeEnums\n",
    "from ibm_cloud_sdk_core.authenticators import IAMAuthenticator"
   ]
  },
  {
   "cell_type": "raw",
   "metadata": {},
   "source": [
    "Access model with API key, site URL, and collection ID.\n",
    "This info can all be collected from the IBM Cloud account."
   ]
  },
  {
   "cell_type": "code",
   "execution_count": null,
   "metadata": {},
   "outputs": [],
   "source": [
    "key = 'Nx3NvwU5bvQsnmHGODdCcR_1LoRnQZFulZZg5kxdm469'\n",
    "link = 'https://api.us-south.visual-recognition.watson.cloud.ibm.com/instances/c89018d4-7929-4a8e-a664-5a42ad47936f' \n",
    "collection_id = '8c34763e-4cfc-47f8-932b-1feca74a0b3c'"
   ]
  },
  {
   "cell_type": "raw",
   "metadata": {},
   "source": [
    "Import and utilize the necessary helper classes.\n",
    "JSON library is imported to output text results."
   ]
  },
  {
   "cell_type": "code",
   "execution_count": null,
   "metadata": {},
   "outputs": [],
   "source": [
    "authenticator = IAMAuthenticator(key)\n",
    "service = VisualRecognitionV4('2018-03-19', authenticator=authenticator)\n",
    "service.set_service_url(link)"
   ]
  },
  {
   "cell_type": "raw",
   "metadata": {},
   "source": [
    "Access the picture that needs to be analyzed from file.\n",
    "This filepath will be unique to individual running code. Configure it to match the filepath of the Photos folder located in the Public folder of the frontend folder of the mask-check-web-appplication."
   ]
  },
  {
   "cell_type": "code",
   "execution_count": null,
   "metadata": {},
   "outputs": [],
   "source": [
    "filepath1 = './mask-check-web-application/frontend/public/Photos' + str(num) + '.jpg'\n",
    "filename = 'student'+str(num)+'.jpg'"
   ]
  },
  {
   "cell_type": "raw",
   "metadata": {},
   "source": [
    "Use the trained IBM Watson model to analyze the image."
   ]
  },
  {
   "cell_type": "code",
   "execution_count": null,
   "metadata": {},
   "outputs": [],
   "source": [
    "with open(filepath1, 'rb') as image:\n",
    "    student_label = service.analyze(collection_ids=[collection_id], features=[AnalyzeEnums.Features.OBJECTS.value], images_file=[FileWithMetadata(image)]).get_result()"
   ]
  },
  {
   "cell_type": "raw",
   "metadata": {},
   "source": [
    "All of the categories or objects being detected are extracted from the inputted image.\n",
    "There is a random glitch where \"collections\" will not appear, make sure it is outputted."
   ]
  },
  {
   "cell_type": "code",
   "execution_count": null,
   "metadata": {},
   "outputs": [],
   "source": [
    "student_label"
   ]
  },
  {
   "cell_type": "raw",
   "metadata": {},
   "source": [
    "Choose a font for the labeling of \"mask\" or \"no mask\"."
   ]
  },
  {
   "cell_type": "code",
   "execution_count": null,
   "metadata": {},
   "outputs": [],
   "source": [
    "text_style = cv2.FONT_HERSHEY_PLAIN\n",
    "face = student_label['images'][0]['objects']['collections'][0]['objects'][0]['object']\n",
    "coordinates = student_label['images'][0]['objects']['collections'][0]['objects'][0]['location']"
   ]
  },
  {
   "cell_type": "raw",
   "metadata": {},
   "source": [
    "Use MATPLOTLIB to visualize the detection with labeling."
   ]
  },
  {
   "cell_type": "code",
   "execution_count": null,
   "metadata": {},
   "outputs": [],
   "source": [
    "from matplotlib import pyplot as plt\n",
    "text_style = cv2.FONT_HERSHEY_PLAIN\n",
    "face = student_label['images'][0]['objects']['collections'][0]['objects'][0]['object']\n",
    "coordinates = student_label['images'][0]['objects']['collections'][0]['objects'][0]['location']"
   ]
  },
  {
   "cell_type": "raw",
   "metadata": {},
   "source": [
    "Use SMTPLIB to transmit emails between your desired addresses.\n",
    "For Gmail accounts, turn off the two factor authentication.\n",
    "For Gmail accounts, allow access by third party applications.\n",
    "If security measures are not turned off, email will be rejected.\n",
    "Use an email address you have the username and password for.\n",
    "Use your own desired subject line text and the body of message."
   ]
  },
  {
   "cell_type": "code",
   "execution_count": null,
   "metadata": {},
   "outputs": [],
   "source": [
    "student = cv2.imread(filepath1)\n",
    "student = cv2.cvtColor(student, cv2.COLOR_BGR2RGB)\n",
    "\n",
    "if face == 'YesMask':\n",
    "    student = cv2.putText(student, text = face, org=(coordinates['left']+coordinates['width'], coordinates['top']+coordinates['height']), fontFace = text_style, fontScale = 2, color = (0,255,0), thickness=3)\n",
    "    student = cv2.putText(student, text = face, org=(coordinates['left']+coordinates['width'], coordinates['top']+coordinates['height']), fontFace = text_style, fontScale = 2, color = (0,255,0), thickness=3)\n",
    "    student = cv2.rectangle(student, (coordinates['left'], coordinates['top']), (coordinates['left']+coordinates['width'], coordinates['top']+coordinates['height']),(0,255,0), 5)\n",
    "    subject = \"Type your desired subject line.\"\n",
    "    message = \"Type your desired body of text.\"\n",
    "    email = 'Subject: {}\\n\\n{}'.format(subject, message)\n",
    "    mail = smtplib.SMTP('smtp.gmail.com', 587)\n",
    "    mail.ehlo()\n",
    "    mail.starttls()\n",
    "    mail.login('your email username', 'your email password')\n",
    "    mail.sendmail('the sender email address', 'the recipient email address', email)\n",
    "    mail.close\n",
    "    \n",
    "elif face == 'NoMask':\n",
    "    student = cv2.putText(student, text = face, org=(coordinates['left']+coordinates['width'], coordinates['top']+coordinates['height']), fontFace = text_style, fontScale = 2, color = (255,0,0), thickness=3)\n",
    "    student = cv2.rectangle(student, (coordinates['left'], coordinates['top']), (coordinates['left']+coordinates['width'], coordinates['top']+coordinates['height']),(255,0,0), 5)\n",
    "    subject = \"Type your desired subject line.\"\n",
    "    message = \"Type your desired body of text.\"\n",
    "    email = 'Subject: {}\\n\\n{}'.format(subject, message)\n",
    "    mail = smtplib.SMTP('smtp.gmail.com', 587)\n",
    "    mail.ehlo()\n",
    "    mail.starttls()\n",
    "    mail.login('your email username', 'your email password')\n",
    "    mail.sendmail('the sender email address', 'the recipient email address', email)\n",
    "    mail.close"
   ]
  },
  {
   "cell_type": "raw",
   "metadata": {},
   "source": [
    "Use imshow function to print the most recent labeled image."
   ]
  },
  {
   "cell_type": "code",
   "execution_count": null,
   "metadata": {},
   "outputs": [],
   "source": [
    "plt.imshow(student)"
   ]
  },
  {
   "cell_type": "raw",
   "metadata": {},
   "source": [
    "Use PyMongo to import MongoClient and connect to MongoDB Atlas."
   ]
  },
  {
   "cell_type": "code",
   "execution_count": null,
   "metadata": {},
   "outputs": [],
   "source": [
    "from pymongo import MongoClient\n",
    "from pprint import pprint"
   ]
  },
  {
   "cell_type": "raw",
   "metadata": {},
   "source": [
    "Connect to MongoDB Atlas using the connection string.\n",
    "Replace MongoDB Atlas <password> with the password for the user."
   ]
  },
  {
   "cell_type": "code",
   "execution_count": null,
   "metadata": {},
   "outputs": [],
   "source": [
    "client = MongoClient(\"mongodb+srv://dbUser:<password>@masklog.nyfeh.mongodb.net/MaskLog?retryWrites=true&w=majority\")"
   ]
  },
  {
   "cell_type": "raw",
   "metadata": {},
   "source": [
    "Connect to the database and collection using their respective names.\n",
    "Our database name was \"MaskLog\" and our collection name was \"LogRow\"."
   ]
  },
  {
   "cell_type": "code",
   "execution_count": null,
   "metadata": {},
   "outputs": [],
   "source": [
    "db = client.get_database('MaskLog')\n",
    "records = db.LogRow"
   ]
  },
  {
   "cell_type": "raw",
   "metadata": {},
   "source": [
    "Check to see how many elements are currently in the Atlas database."
   ]
  },
  {
   "cell_type": "code",
   "execution_count": null,
   "metadata": {
    "scrolled": true
   },
   "outputs": [],
   "source": [
    "records.count_documents({})"
   ]
  },
  {
   "cell_type": "raw",
   "metadata": {},
   "source": [
    "Send time, result, and file name of new photo entry to the database."
   ]
  },
  {
   "cell_type": "code",
   "execution_count": null,
   "metadata": {},
   "outputs": [],
   "source": [
    "if face == 'YesMask':\n",
    "    new_entry = {'time': date_time, 'result': 'yes', 'photoname': filename}\n",
    "    records.insert_one(new_entry)\n",
    "    \n",
    "if face == 'NoMask':\n",
    "    new_entry = {'time': date_time, 'result': 'no', 'photoname': filename}\n",
    "    records.insert_one(new_entry)"
   ]
  },
  {
   "cell_type": "raw",
   "metadata": {},
   "source": [
    "Check to see how many elements are in the database after new entry.\n",
    "Make sure to clear the MongoDB Atlas for every new phase of testing."
   ]
  },
  {
   "cell_type": "code",
   "execution_count": null,
   "metadata": {},
   "outputs": [],
   "source": [
    "records.count_documents({})"
   ]
  }
 ],
 "metadata": {
  "kernelspec": {
   "display_name": "Python 3",
   "language": "python",
   "name": "python3"
  },
  "language_info": {
   "codemirror_mode": {
    "name": "ipython",
    "version": 3
   },
   "file_extension": ".py",
   "mimetype": "text/x-python",
   "name": "python",
   "nbconvert_exporter": "python",
   "pygments_lexer": "ipython3",
   "version": "3.7.6"
  }
 },
 "nbformat": 4,
 "nbformat_minor": 4
}
